{
 "cells": [
  {
   "cell_type": "markdown",
   "metadata": {},
   "source": [
    "# Bigquery 집계결과를 가지고 Stackoverflow 응답시간 예측하기\n",
    "<br> \n",
    "## Bigquery 로 응답이 채택된 550만 질문건에 대해서, 질문자가 입력한 tag 기반으로 예상 응답시간 분석    "
   ]
  },
  {
   "cell_type": "code",
   "execution_count": 20,
   "metadata": {
    "hiddenCell": true
   },
   "outputs": [],
   "source": [
    "# Imports the Google Cloud client library\n",
    "from google.cloud import bigquery\n",
    "\n",
    "def query_stackoverflow(project,title):\n",
    "  \n",
    "    client = bigquery.Client()\n",
    "    \n",
    "    # Query percentile of response based on tag\n",
    "    query = \"\"\"\n",
    "            WITH\n",
    "              w_tag AS(\n",
    "              SELECT\n",
    "                split_tags,\n",
    "                avg_ans_sec\n",
    "              FROM\n",
    "                `hackertone-216701.stackoverflow_summary.post_accepted_answers`\n",
    "              WHERE avg_ans_sec <=2*3600)\n",
    "            SELECT\n",
    "              tag,\n",
    "              arr_ans_sec[SAFE_OFFSET(CAST(array_length(arr_ans_sec)*1/4 AS INT64))] as q1,\n",
    "              arr_ans_sec[SAFE_OFFSET(CAST(array_length(arr_ans_sec)*2/4 AS INT64))] as q2,\n",
    "              arr_ans_sec[SAFE_OFFSET(CAST(array_length(arr_ans_sec)*3/4 AS INT64))] as q3,\n",
    "              average,\n",
    "              array_length(arr_ans_sec) as count,\n",
    "              array_length(arr_ans_sec)/sum(array_length(arr_ans_sec)) over() percent\n",
    "            FROM\n",
    "            (\n",
    "            SELECT\n",
    "              tag,\n",
    "              ARRAY_AGG(avg_ans_sec ORDER BY avg_ans_sec asc) AS arr_ans_sec,\n",
    "              avg(avg_ans_sec) as average\n",
    "            FROM\n",
    "              w_tag,\n",
    "              UNNEST(split_tags) AS tag\n",
    "              WHERE tag in UNNEST(@title) -- Parameterized Query \n",
    "            GROUP BY\n",
    "              tag\n",
    "            )\n",
    "            ORDER BY count desc, q2\n",
    "            --LIMIT 10 \n",
    "            \"\"\"\n",
    "    \n",
    "    splited_title = title.lower().split()\n",
    "    query_params = [\n",
    "       bigquery.ArrayQueryParameter(\n",
    "            'title', 'STRING', splited_title)\n",
    "    ]\n",
    "\n",
    "    job_config = bigquery.QueryJobConfig()\n",
    "    job_config.query_parameters = query_params\n",
    "    query_job = client.query(\n",
    "        query,\n",
    "        # Location must match that of the dataset(s) referenced in the query.\n",
    "        location='US',\n",
    "        job_config=job_config)  # API request - starts the query\n",
    "\n",
    "    results = query_job.result()  # Waits for job to complete.\n",
    "    print(\"Expected response time upon your question: \\n{} \\n\".format(splited_title))\n",
    "    for row in results:\n",
    "        print(\"tag:{:15s} | 25%:{:7.0f} 분 | Median:{:7.0f} 분 | Average:{:7.0f} 분\".format(row.tag, row.q1/60, row.q2/60, row.average/60))\n",
    "        \n",
    "    assert query_job.state == 'DONE'\n"
   ]
  },
  {
   "cell_type": "code",
   "execution_count": 21,
   "metadata": {},
   "outputs": [
    {
     "name": "stdout",
     "output_type": "stream",
     "text": [
      "Expected response time upon your question: \n",
      "['why', 'does', 'java', 'not', 'allow', 'multiple', 'inheritance', 'but', 'does', 'allow', 'conforming', 'to', 'multiple', 'interfaces', 'with', 'default', 'implementations'] \n",
      "\n",
      "tag:java            | 25%:      5 분 | Median:     12 분 | Average:     22 분\n",
      "tag:inheritance     | 25%:      5 분 | Median:     10 분 | Average:     19 분\n",
      "tag:default         | 25%:      5 분 | Median:     11 분 | Average:     21 분\n"
     ]
    }
   ],
   "source": [
    "project='hackertone-216701'\n",
    "\n",
    "# Stackoverflow에 질문할 내용\n",
    "query = 'Why does Java not allow multiple inheritance but does allow conforming to multiple interfaces with default implementations'\n",
    "\n",
    "query_stackoverflow(project,query)\n"
   ]
  },
  {
   "cell_type": "markdown",
   "metadata": {},
   "source": [
    "# Bigquery 와 ML 엔진을 이용해서 Stackoverflow 응답시간 예측 하기"
   ]
  },
  {
   "cell_type": "markdown",
   "metadata": {},
   "source": [
    "### Bigquery 로 12시간안에 대답으로 질문 내용 580만건에 대해서 ML 알고리즘을 이용해서 학습 후, 해당 학습 모델을 ML엔진에 업로드 \n",
    "<br> \n",
    "### 입력된 질문에 대해서 ML엔진이 모델분석을 통해서 예상되는 응답시간을 출력"
   ]
  },
  {
   "cell_type": "code",
   "execution_count": 3,
   "metadata": {
    "hiddenCell": true
   },
   "outputs": [],
   "source": [
    "import googleapiclient.discovery\n",
    "\n",
    "def predict_json(project, model, instances, version=None):\n",
    "    \"\"\"Send json data to a deployed model for prediction.\n",
    "    Args:\n",
    "        project (str): project where the Cloud ML Engine Model is deployed.\n",
    "        model (str): model name.\n",
    "        instances ([[float]]): List of input instances, where each input\n",
    "           instance is a list of floats.\n",
    "        version: str, version of the model to target.\n",
    "    Returns:\n",
    "        Mapping[str: any]: dictionary of prediction results defined by the\n",
    "            model.\n",
    "    \"\"\"\n",
    "    # Create the ML Engine service object.\n",
    "    # To authenticate set the environment variable\n",
    "    # GOOGLE_APPLICATION_CREDENTIALS=<path_to_service_account_file>\n",
    "    service = googleapiclient.discovery.build('ml', 'v1')\n",
    "    name = 'projects/{}/models/{}'.format(project, model)\n",
    "\n",
    "    if version is not None:\n",
    "        name += '/versions/{}'.format(version)\n",
    "\n",
    "    response = service.projects().predict(\n",
    "        name=name,\n",
    "        body={'instances': instances}\n",
    "    ).execute()\n",
    "\n",
    "    if 'error' in response:\n",
    "        raise RuntimeError(response['error'])\n",
    "\n",
    "    return response['predictions']"
   ]
  },
  {
   "cell_type": "code",
   "execution_count": 17,
   "metadata": {},
   "outputs": [
    {
     "name": "stdout",
     "output_type": "stream",
     "text": [
      "예상되는 답변 시간: 22.0 분\n"
     ]
    }
   ],
   "source": [
    "import pandas as pd\n",
    "#ML 엔진 모델 이름\n",
    "model = 'stackoverflow'\n",
    "#ML 엔진 모델 버젼\n",
    "versions='SGD_Regression_2hour'\n",
    "#versions='RandomForest_Regression'\n",
    "\n",
    "\n",
    "# 질문 쿼리\n",
    "mlquery=[query]\n",
    "\n",
    "# ML 엔진에 질문쿼리를 입력해서 결과값을 받음\n",
    "result = predict_json(project,model,mlquery,versions)\n",
    "\n",
    "print(\"예상되는 답변 시간: {0:.1f} 분\".format(result[0]))\n"
   ]
  },
  {
   "cell_type": "code",
   "execution_count": null,
   "metadata": {},
   "outputs": [],
   "source": []
  },
  {
   "cell_type": "code",
   "execution_count": null,
   "metadata": {},
   "outputs": [],
   "source": []
  }
 ],
 "metadata": {
  "kernelspec": {
   "display_name": "Python 3",
   "language": "python",
   "name": "python3"
  },
  "language_info": {
   "codemirror_mode": {
    "name": "ipython",
    "version": 3
   },
   "file_extension": ".py",
   "mimetype": "text/x-python",
   "name": "python",
   "nbconvert_exporter": "python",
   "pygments_lexer": "ipython3",
   "version": "3.5.5"
  }
 },
 "nbformat": 4,
 "nbformat_minor": 2
}
